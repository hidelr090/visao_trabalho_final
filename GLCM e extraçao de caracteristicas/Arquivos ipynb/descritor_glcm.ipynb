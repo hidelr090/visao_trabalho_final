{
 "cells": [
  {
   "cell_type": "code",
   "execution_count": null,
   "metadata": {
    "collapsed": true
   },
   "outputs": [],
   "source": [
    "import os\n",
    "import numpy as np\n",
    "import pandas as pd\n",
    "import matplotlib.pyplot as plt\n",
    "%matplotlib inline\n",
    "from skimage.io import imsave\n",
    "from skimage.io import imread_collection, imread\n",
    "from skimage.color import rgb2gray"
   ]
  },
  {
   "cell_type": "code",
   "execution_count": null,
   "metadata": {},
   "outputs": [],
   "source": [
    "DIR = 'imagens_teste/red/*.png'\n",
    "images = imread_collection(DIR)\n",
    "\n",
    "fig, ax = plt.subplots(1, 12, figsize=(40,40))\n",
    "for i, image in enumerate(images):\n",
    "    ax[i].imshow(image, cmap='gray')"
   ]
  },
  {
   "cell_type": "code",
   "execution_count": null,
   "metadata": {
    "collapsed": true
   },
   "outputs": [],
   "source": [
    "def gray_255_scale(image):  \n",
    "    arr = np.zeros(image.shape)\n",
    "    for i in range(len(arr)):\n",
    "        for j in range(len(arr[i])):\n",
    "            arr[i][j] = int(round(image[i,j] * 255))\n",
    "    return arr"
   ]
  },
  {
   "cell_type": "code",
   "execution_count": null,
   "metadata": {
    "collapsed": true
   },
   "outputs": [],
   "source": [
    "def homogeneity(image):\n",
    "    soma = 0\n",
    "    for i in range(len(image)):\n",
    "        for j in range(len(image[i])):\n",
    "            soma+=(image[i][j]/(1+((i-j)**2)))\n",
    "    \n",
    "    return soma\n",
    "\n",
    "def variance(image):\n",
    "    i_sum = 0\n",
    "    j_sum = 0\n",
    "\n",
    "    mean = np.mean(image)\n",
    "\n",
    "    for i in range(len(image)):\n",
    "        j_sum = 0\n",
    "        for j in range(len(image[i])):\n",
    "            j_sum += ((1-mean)**2)*image[i,j]\n",
    "        i_sum+=j_sum\n",
    "\n",
    "    return i_sum\n",
    "\n",
    "def uniformity(image):\n",
    "    sum_index_values = 0\n",
    "    for i in image:\n",
    "        for j in i:\n",
    "            sum_index_values += j**2\n",
    "    return sum_index_values\n",
    "\n",
    "def entropy(image):\n",
    "    sum_index_values = 0\n",
    "    for i in image:\n",
    "        for j in i:\n",
    "            if j > 0:\n",
    "                sum_index_values += j*np.log10(j)\n",
    "    return -(sum_index_values)\n",
    "\n",
    "def correlation(image):\n",
    "    sum_index_values = 0\n",
    "\n",
    "    for i in range(len(image)):\n",
    "        for j in range(len(image[i])):\n",
    "            if image[i,j] != 0:\n",
    "                sum_index_values += (i - np.mean(image[i])) * (j - np.mean(image[:,j])) * image[i,j]/(np.std(image[i])*np.std(image[:,j]))\n",
    "    return sum_index_values\n",
    "\n",
    "def contrast(image):\n",
    "    sum_index_values = 0\n",
    "    \n",
    "    for i in range(len(image)):\n",
    "        for j in range(len(image[i])):\n",
    "            sum_index_values += ((i - j) ** 2) * image[i,j]\n",
    "    return sum_index_values"
   ]
  },
  {
   "cell_type": "code",
   "execution_count": null,
   "metadata": {
    "collapsed": true
   },
   "outputs": [],
   "source": [
    "def glcm(image, angle, distance, normalize=False):\n",
    "\n",
    "    lines, columns = image.shape\n",
    "\n",
    "    glcm_matrix = []\n",
    "    glcm_lines=0\n",
    "    glcm_columns=0\n",
    "    \n",
    "    if(angle==0):\n",
    "        for i in range(lines):\n",
    "            for j in range(columns-distance):\n",
    "                reference = int(image[i][j])\n",
    "                neighbour = int(image[i][j+distance])\n",
    "                if(reference > glcm_lines):\n",
    "                    glcm_lines = reference\n",
    "                if(neighbour > glcm_columns):\n",
    "                    glcm_columns = neighbour         \n",
    "        for i in range(glcm_lines+1):\n",
    "            lista = []\n",
    "            for j in range(glcm_columns+1):\n",
    "                lista.append(0)\n",
    "            glcm_matrix.append(lista)\n",
    "\n",
    "        for i in range(lines):\n",
    "            for j in range(columns-distance):\n",
    "                reference = int(image[i][j])\n",
    "                neighbour = int(image[i][j+distance])\n",
    "                glcm_matrix[reference][neighbour]+=1\n",
    "        if normalize == True:\n",
    "            return (glcm_matrix - np.min(glcm_matrix))/np.ptp(glcm_matrix)\n",
    "        return glcm_matrix\n",
    "\n",
    "    if(angle == 90):\n",
    "        for i in range(distance, lines, 1):\n",
    "            for j in range(columns):\n",
    "                reference = int(image[i][j])\n",
    "                neighbour = int(image[i-distance][j])\n",
    "                if(reference > glcm_lines):\n",
    "                    glcm_lines = reference\n",
    "                if(neighbour > glcm_columns):\n",
    "                    glcm_columns = neighbour\n",
    "\n",
    "        for i in range(glcm_lines+1):\n",
    "            lista = []\n",
    "            for j in range(glcm_columns+1):\n",
    "                lista.append(0)\n",
    "            glcm_matrix.append(lista)\n",
    "\n",
    "        for i in range(distance, lines, 1):\n",
    "            for j in range(columns):\n",
    "                reference = int(image[i][j])\n",
    "                neighbour = int(image[i-distance][j])\n",
    "                glcm_matrix[reference][neighbour]+=1\n",
    "        if normalize == True:\n",
    "            return (glcm_matrix - np.min(glcm_matrix))/np.ptp(glcm_matrix)\n",
    "        return glcm_matrix\n",
    "\n",
    "    if(angle == 45):\n",
    "        for i in range(distance, lines, 1):\n",
    "            for j in range(distance, columns, 1):\n",
    "                reference = int(image[i][j])\n",
    "                neighbour = int(image[i-distance][j-distance])\n",
    "                if(reference > glcm_lines):\n",
    "                    glcm_lines = reference\n",
    "                if(neighbour > glcm_columns):\n",
    "                    glcm_columns = neighbour         \n",
    "\n",
    "        for i in range(glcm_lines+1):\n",
    "            lista = []\n",
    "            for j in range(glcm_columns+1):\n",
    "                lista.append(0)\n",
    "            glcm_matrix.append(lista)\n",
    "\n",
    "        for i in range(distance, lines, 1):\n",
    "            for j in range(distance, columns, 1):\n",
    "                reference = int(image[i][j])\n",
    "                neighbour = int(image[i-distance][j-distance])\n",
    "                glcm_matrix[reference][neighbour]+=1\n",
    "        if normalize == True:\n",
    "            return (glcm_matrix - np.min(glcm_matrix))/np.ptp(glcm_matrix)\n",
    "        return glcm_matrix\n",
    "\n",
    "    if(angle == 135):\n",
    "        for i in range(distance, lines, 1):\n",
    "            for j in range(columns-distance):\n",
    "                reference = int(image[i][j])\n",
    "                neighbour = int(image[i-distance][j+distance])\n",
    "                if(reference > glcm_lines):\n",
    "                    glcm_lines = reference\n",
    "                if(neighbour > glcm_columns):\n",
    "                    glcm_columns = neighbour\n",
    "\n",
    "        for i in range(glcm_lines+1):\n",
    "            lista = []\n",
    "            for j in range(glcm_columns+1):\n",
    "                lista.append(0)\n",
    "            glcm_matrix.append(lista)\n",
    "\n",
    "        for i in range(distance, lines, 1):\n",
    "            for j in range(columns-distance):\n",
    "                reference = int(image[i][j])\n",
    "                neighbour = int(image[i-distance][j+distance])\n",
    "                glcm_matrix[reference][neighbour]+=1\n",
    "        if normalize == True:\n",
    "            return (glcm_matrix - np.min(glcm_matrix))/np.ptp(glcm_matrix)\n",
    "        return glcm_matrix"
   ]
  },
  {
   "cell_type": "code",
   "execution_count": null,
   "metadata": {
    "collapsed": true
   },
   "outputs": [],
   "source": []
  },
  {
   "cell_type": "code",
   "execution_count": null,
   "metadata": {
    "collapsed": true
   },
   "outputs": [],
   "source": [
    "def descritor_glcm(imagem, angle, distance):\n",
    "    glcm_images = []\n",
    "    for i in range(len(imagem)):\n",
    "        print(\"Imagem {}...\".format(i+1))\n",
    "        gray_im = rgb2gray(imagem[i])\n",
    "        matriz_glcm = glcm(gray_255_scale(gray_im), angle, distance, normalize=True)\n",
    "        \n",
    "        #definição da classe da imagem\n",
    "        classe = 0\n",
    "        glcm_images.append([uniformity(np.array(matriz_glcm)), entropy(np.array(matriz_glcm)), contrast(np.array(matriz_glcm)), correlation(np.array(matriz_glcm)), variance(np.array(matriz_glcm)), homogeneity(np.array(matriz_glcm)), classe])\n",
    "        \n",
    "    return glcm_images"
   ]
  },
  {
   "cell_type": "code",
   "execution_count": null,
   "metadata": {},
   "outputs": [],
   "source": [
    "#Aplicando com os parâmetros Ângulo = 0 e Distância = 1\n",
    "columns = ['uniformity', 'entropy', 'contrast', 'correlation', 'variance', 'homogeneity', 'Classe']\n",
    "data = pd.DataFrame(descritor_glcm(images, 0, 1),columns=columns)\n",
    "data"
   ]
  },
  {
   "cell_type": "code",
   "execution_count": null,
   "metadata": {},
   "outputs": [],
   "source": [
    "#Aplicando com os parâmetros Ângulo = 45 e Distância = 1\n",
    "columns = ['uniformity', 'entropy', 'contrast', 'correlation', 'variance', 'homogeneity', 'Classe']\n",
    "data2 = pd.DataFrame(descritor_glcm(images, 45, 1),columns=columns)\n",
    "data2"
   ]
  },
  {
   "cell_type": "code",
   "execution_count": null,
   "metadata": {},
   "outputs": [],
   "source": [
    "#Aplicando com os parâmetros Ângulo = 0 e Distância = 2\n",
    "columns = ['uniformity', 'entropy', 'contrast', 'correlation', 'variance', 'homogeneity', 'Classe']\n",
    "data3 = pd.DataFrame(descritor_glcm(images, 45, 2),columns=columns)\n",
    "data3"
   ]
  }
 ],
 "metadata": {
  "kernelspec": {
   "display_name": "Python 3",
   "language": "python",
   "name": "python3"
  },
  "language_info": {
   "codemirror_mode": {
    "name": "ipython",
    "version": 3
   },
   "file_extension": ".py",
   "mimetype": "text/x-python",
   "name": "python",
   "nbconvert_exporter": "python",
   "pygments_lexer": "ipython3",
   "version": "3.7.1"
  }
 },
 "nbformat": 4,
 "nbformat_minor": 2
}
